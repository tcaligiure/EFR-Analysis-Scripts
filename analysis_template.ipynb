{
 "cells": [
  {
   "cell_type": "code",
   "execution_count": null,
   "id": "73df36b8-7db3-4675-8ca1-461445b8e455",
   "metadata": {},
   "outputs": [],
   "source": [
    "import AxionAnalysis as AA\n",
    "\n",
    "from pathlib import Path as p\n",
    "import h5py\n",
    "import numpy as np\n",
    "import matplotlib.pyplot as plt"
   ]
  },
  {
   "cell_type": "code",
   "execution_count": null,
   "id": "484740eb-e63f-4a9c-bbee-3c82c6fa6300",
   "metadata": {},
   "outputs": [],
   "source": [
    "exp_name = p.cwd().name\n",
    "direction = 'down'\n",
    "fname = p.cwd() / (exp_name+'.hdf5')\n",
    "f = h5py.File(fname,'r')\n",
    "\n",
    "exp_title = ''\n",
    "\n",
    "print(exp_name)"
   ]
  },
  {
   "cell_type": "code",
   "execution_count": null,
   "id": "e79a7942-dc86-4517-b051-e4b8e5ad35ac",
   "metadata": {},
   "outputs": [],
   "source": [
    "mag_data21, mag_data11 ,mag_data22 ,mag_data_db21 ,mag_data_db11 ,mag_data_db22 ,freq ,phi ,rad = AA.data_processing(f)"
   ]
  },
  {
   "cell_type": "code",
   "execution_count": null,
   "id": "f553c204-6fc5-4daf-ab96-a8e8125fc751",
   "metadata": {},
   "outputs": [],
   "source": [
    "impedance_filter = '' \n",
    "cutoff_freq = \n",
    "atten_level =  \n",
    "tuning_arm_material = ''\n",
    "tuning_arm_size = \n",
    "tuning_rod_type = '' \n",
    "rod_finish = ''\n",
    "cavity_finish = '' \n",
    "SMA_pos = '' \n",
    "SMA_len =  \n",
    "torque_vals ="
   ]
  },
  {
   "cell_type": "markdown",
   "id": "83e7e3ce-eebb-4192-80dd-ac2c0d721b7a",
   "metadata": {},
   "source": [
    "# S21"
   ]
  },
  {
   "cell_type": "code",
   "execution_count": null,
   "id": "f8c4fefc-3a7d-41d8-9ec3-5e52916b7b90",
   "metadata": {},
   "outputs": [],
   "source": [
    "AA.mode_map(mag_data_db21, freq, rad, exp_title)"
   ]
  },
  {
   "cell_type": "code",
   "execution_count": null,
   "id": "660894c2-b8cd-4874-963c-37808f952b4e",
   "metadata": {},
   "outputs": [],
   "source": [
    "AA.S21_slider(mag_data_db21, freq, phi)"
   ]
  },
  {
   "cell_type": "code",
   "execution_count": null,
   "id": "e92b8516-b93f-4f8b-b283-b8cd5e7112b2",
   "metadata": {},
   "outputs": [],
   "source": [
    "AA.S21_plot(mag_data_db21, freq)"
   ]
  },
  {
   "cell_type": "code",
   "execution_count": null,
   "id": "4c8a973d-4828-4b3f-85bb-ed214dd4e54b",
   "metadata": {},
   "outputs": [],
   "source": [
    "TM010_Q,TM010_f0=AA.Loaded_Q(mag_data_db21, freq, phi, f, exp_title)"
   ]
  },
  {
   "cell_type": "code",
   "execution_count": null,
   "id": "ab46e67e-965d-420f-ab44-f8edb08c5516",
   "metadata": {},
   "outputs": [],
   "source": [
    "TM010_Qu, s110, s220, sT0 = AA.TM010_Qu(mag_data_db11, mag_data_db22, phi, freq, TM010_Q, TM010_f0, exp_title)"
   ]
  },
  {
   "cell_type": "code",
   "execution_count": null,
   "id": "f08eba25-6442-4a64-a05e-608d8f3330e6",
   "metadata": {},
   "outputs": [],
   "source": [
    "def create_or_update_dataset(file, dataset_name, data_dict):\n",
    "    if dataset_name in file:\n",
    "        dataset_group = file[dataset_name]\n",
    "    else:\n",
    "        dataset_group = file.create_group(dataset_name)\n",
    "    \n",
    "    for subgroup_name, subgroup_data in data_dict.items():\n",
    "        subgroup = dataset_group.create_group(subgroup_name)\n",
    "        for key, value in subgroup_data.items():\n",
    "            subgroup[key] = value\n",
    "\n",
    "with h5py.File('/Users/tcaligiure/Documents/Projects/ADMX/ADMX_data.hdf5', 'w') as master_file:\n",
    "    exp_data = {\n",
    "        \"impedance_filter\": {\n",
    "            \"filter_type\": impedance_filter,\n",
    "            \"cutoff_frequency\": cutoff_freq,\n",
    "            \"attenuation_level\": atten_level\n",
    "        },\n",
    "        \"tuning\": {\n",
    "            \"internal_tuning_arm_material\": tuning_arm_material,\n",
    "            \"tuning_arm_size\": tuning_arm_size,\n",
    "            \"tuning_rod_type\": tuning_rod_type,\n",
    "            \"rod_surface_finish\": rod_finish,\n",
    "            \"cavity_surface_finish\": cavity_finish\n",
    "        },\n",
    "        \"antenna\": {\n",
    "            \"position\": SMA_pos,\n",
    "            \"lengths\": SMA_len\n",
    "        },\n",
    "        \"others\": {\n",
    "            \"torque_values\": torque_vals,\n",
    "            \"frequency_range\": TM010_f0,\n",
    "            \"loaded_Q\": TM010_Q,\n",
    "            \"unloaded_Q\": TM010_Qu\n",
    "        }\n",
    "    }\n",
    "\n",
    "    create_or_update_dataset(master_file, exp_title, exp_data)"
   ]
  },
  {
   "cell_type": "code",
   "execution_count": null,
   "id": "118f6213-411e-47d2-b24b-aeb170910f5e",
   "metadata": {},
   "outputs": [],
   "source": [
    "Qu_1, f1_list = AA.unloaded_Q(mag_data_db11, mag_data_db22, phi, freq, TM010_Q, TM010_f0, 1, exp_title)\n",
    "Qu_2, f2_list = AA.unloaded_Q(mag_data_db11, mag_data_db22, phi, freq, TM010_Q, TM010_f0, 2, exp_title)"
   ]
  },
  {
   "cell_type": "code",
   "execution_count": null,
   "id": "df810901-fdcd-4356-bb49-dad6319fab6c",
   "metadata": {},
   "outputs": [],
   "source": [
    "fig,ax = plt.subplots(1,figsize=(13,8), dpi = 300)\n",
    "\n",
    "plt.scatter(TM010_f0, TM010_Qu, label = 'TM010', color = 'black')\n",
    "plt.scatter(f1_list[0:-1], Qu_1, label = 'TM011', color = 'green', marker = 's')\n",
    "plt.scatter(f2_list[0:-1], Qu_2, label = 'TM012', color = 'red', marker = 'x')\n",
    "plt.xlabel('Freq [GHz]')\n",
    "plt.ylabel('$Q_u$')\n",
    "plt.legend(loc = 'best', frameon = False)\n",
    "plt.title('$Q_u$ for First Three Modes')\n",
    "plt.savefig('Multimode_Q.PNG', dpi = 300, facecolor = 'w')\n",
    "\n",
    "plt.show()"
   ]
  },
  {
   "cell_type": "code",
   "execution_count": null,
   "id": "480c204b-d9ec-440e-9be4-0e2de733ddb6",
   "metadata": {},
   "outputs": [],
   "source": [
    "beta1, beta2 = AA.betas(TM010_Qu, TM010_f0, phi, s110, s220, sT0, exp_title)"
   ]
  },
  {
   "cell_type": "code",
   "execution_count": null,
   "id": "b5ba2a7e-77a2-41e1-92c6-f0338a0577b4",
   "metadata": {},
   "outputs": [],
   "source": [
    "Q1, Q2 = AA.Q_params(TM010_Qu, TM010_f0, phi, beta1, beta2, exp_title)"
   ]
  },
  {
   "cell_type": "code",
   "execution_count": null,
   "id": "7730f652-6284-4919-99a2-798b062d4582",
   "metadata": {},
   "outputs": [],
   "source": [
    "AA.Q_check(TM010_Q, TM010_f0, TM010_Qu, phi, Q1, Q2, exp_title)"
   ]
  },
  {
   "cell_type": "code",
   "execution_count": null,
   "id": "8ace6c4e-9869-4162-a2ef-6ee444eceb74",
   "metadata": {},
   "outputs": [],
   "source": [
    "def func(c1, c2):\n",
    "    arg = (1/TM010_Q) + (1/(Q1*c1)) + (1/(Q2*c2))\n",
    "    return (1/arg)\n",
    "\n",
    "fig, ax = plt.subplots(1, 1, figsize = (13, 8), dpi = 300)\n",
    "\n",
    "plt.scatter(TM010_f0, func(1, 1), label = 'Measured $Q_L$', color = 'navy')\n",
    "plt.plot(TM010_f0, func(0.9, 0.9), label = '$Q_L$, dec. $Q_{1,2}$', color = 'royalblue')\n",
    "plt.plot(TM010_f0, func(1.1, 1.1), label = '$Q_L$, inc. $Q_{1,2}$', color = 'slategrey')\n",
    "plt.plot(TM010_f0, func(1.1, 0.9), label = '$Q_L$, alt. $Q_{1,2}$', color = 'slateblue')\n",
    "plt.legend(loc = 'best', frameon = False)\n",
    "\n",
    "plt.show()"
   ]
  },
  {
   "cell_type": "markdown",
   "id": "49d09bee-025d-4861-8b38-c7314b6a48f9",
   "metadata": {},
   "source": [
    "# S11"
   ]
  },
  {
   "cell_type": "code",
   "execution_count": null,
   "id": "21b9975b-8661-492e-87d4-5504e3db133b",
   "metadata": {},
   "outputs": [],
   "source": [
    "AA.S11_plot(mag_data_db11, freq)"
   ]
  },
  {
   "cell_type": "code",
   "execution_count": null,
   "id": "a9546eb8-5e93-431f-ab13-d127f3ad05d2",
   "metadata": {},
   "outputs": [],
   "source": [
    "AA.S11_slider(mag_data_db11, freq, phi)"
   ]
  },
  {
   "cell_type": "markdown",
   "id": "d6b08b76-3e95-4775-b413-9fa3e49155be",
   "metadata": {},
   "source": [
    "# S22"
   ]
  },
  {
   "cell_type": "code",
   "execution_count": null,
   "id": "46de2e7c-a876-4c54-931d-1b03237ef4e6",
   "metadata": {},
   "outputs": [],
   "source": [
    "AA.S22_plot(mag_data_db22, freq)"
   ]
  },
  {
   "cell_type": "code",
   "execution_count": null,
   "id": "5ef84e92-8a9a-40a4-aa1e-c06769115415",
   "metadata": {},
   "outputs": [],
   "source": [
    "AA.S22_slider(mag_data_db22, freq, phi)"
   ]
  }
 ],
 "metadata": {
  "kernelspec": {
   "display_name": "Python 3 (ipykernel)",
   "language": "python",
   "name": "python3"
  },
  "language_info": {
   "codemirror_mode": {
    "name": "ipython",
    "version": 3
   },
   "file_extension": ".py",
   "mimetype": "text/x-python",
   "name": "python",
   "nbconvert_exporter": "python",
   "pygments_lexer": "ipython3",
   "version": "3.9.12"
  }
 },
 "nbformat": 4,
 "nbformat_minor": 5
}
